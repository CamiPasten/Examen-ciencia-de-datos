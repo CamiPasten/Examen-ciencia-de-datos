{
 "cells": [
  {
   "cell_type": "code",
   "execution_count": 3,
   "metadata": {},
   "outputs": [
    {
     "name": "stdout",
     "output_type": "stream",
     "text": [
      "   estatura   peso     genero  ingresos   etnia  educacion  educacion_madre  \\\n",
      "0    187.96  95.25  masculino   50000.0  Blanco       16.0             16.0   \n",
      "1    167.64  56.70   femenino   60000.0  Blanco       16.0             16.0   \n",
      "2    162.56  57.15   femenino   30000.0  Blanco       16.0             16.0   \n",
      "3    165.10  90.72   femenino   25000.0  Blanco       17.0             17.0   \n",
      "4    160.02  49.90   femenino   50000.0   Other       16.0             16.0   \n",
      "\n",
      "   educacion_padre  camina  ejercicio  fumador  tenso  malhumorado  edad  \n",
      "0             16.0       3          3      2.0    0.0          0.0    45  \n",
      "1             16.0       6          5      1.0    0.0          0.0    58  \n",
      "2             16.0       8          1      2.0    1.0          1.0    29  \n",
      "3              NaN       8          1      2.0    0.0          0.0    57  \n",
      "4             16.0       5          6      2.0    0.0          0.0    91  \n"
     ]
    }
   ],
   "source": [
    "import pandas as pd\n",
    "\n",
    "# Ruta correcta al archivo\n",
    "ruta_archivo = \"ingresos-1.txt\"\n",
    "\n",
    "# Leer el archivo .txt como base de datos\n",
    "df = pd.read_csv(ruta_archivo, delimiter=\"\\t\")\n",
    "\n",
    "# Mostrar los primeros registros\n",
    "print(df.head())\n"
   ]
  }
 ],
 "metadata": {
  "kernelspec": {
   "display_name": "Python 3",
   "language": "python",
   "name": "python3"
  },
  "language_info": {
   "codemirror_mode": {
    "name": "ipython",
    "version": 3
   },
   "file_extension": ".py",
   "mimetype": "text/x-python",
   "name": "python",
   "nbconvert_exporter": "python",
   "pygments_lexer": "ipython3",
   "version": "3.12.5"
  }
 },
 "nbformat": 4,
 "nbformat_minor": 2
}
